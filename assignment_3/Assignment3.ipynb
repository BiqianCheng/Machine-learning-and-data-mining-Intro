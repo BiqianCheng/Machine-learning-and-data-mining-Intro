{
 "cells": [
  {
   "cell_type": "markdown",
   "metadata": {},
   "source": [
    "# CS171 - Winter 2020 - Assignment 3\n",
    "### Instructor: Vagelis Papalexakis\n",
    "### TA: Ekta Gujral\n",
    "### Credit for  Assignment 3: 15/35 points of the final grade\n",
    "\n",
    "In this assignment we will implement the K-means clustering algorithm. We are going to use the same dataset as in the previous two assignments (<b>Note</b>: make sure you copy the dataset from Assignment 1 to the folder of this assignment!)."
   ]
  },
  {
   "cell_type": "code",
   "execution_count": 1,
   "metadata": {},
   "outputs": [],
   "source": [
    "import numpy as np\n",
    "import pandas as pd\n",
    "import matplotlib.pyplot as plt\n",
    "import seaborn as sb\n",
    "import random as rand\n",
    "import math as math\n",
    "# from sklearn.model_selection import train_test_split\n",
    "\n",
    "\n",
    "data_names = ['sepal_length', 'sepal_width', 'petal_length', 'petal_width', 'label']\n",
    "data = pd.read_csv('iris.data', \n",
    "                   names = data_names)"
   ]
  },
  {
   "cell_type": "markdown",
   "metadata": {},
   "source": [
    "## Question 1: Implementing and testing K-means clustering [100%]\n",
    "### Question 1a: Implementing K-Means clustering [50%]\n",
    "In this question you should implement a function that performs k-means clustering, using the Euclidean distance (you may use Numpy libraries for the distance computation). For calculation of the centroid you should use the 'mean' function.\n",
    "\n",
    "For uniformity, you should implement a function with the following specifications:\n",
    "```python\n",
    "def kmeans_clustering(all_vals,K,max_iter = 100, tol = pow(10,-3) ):\n",
    "```\n",
    "where 1) 'all_vals' is the $N \\times M$ matrix that contains all data points ($N$ is the number of data points and $M$ is the number of features, each row of the matrix is a data point), 2) 'K' is the number of clusters, 3) 'max_iter' is the maxium number of iterations, and 4) 'tol' is the tolerance for the change of the sum of squares of errors that determines convergence.\n",
    "\n",
    "Your function should return the following variables: 1) 'assignments': this is a $N\\times 1$ vector (where $N$ is the number of data points) where the $i$-th position of that vector contains the cluster number that the $i$-th data point is assigned to, 2) 'centroids': this is a $K\\times M$ matrix, each row of which contains the centroid for every cluster, 3) 'all_sse': this is a vector that contains all the sum of squares of errors per iteration of the algorithm, and 4) 'iters': this is the number of iterations that the algorithm ran.\n",
    "\n",
    "Here we are going to implement the simplest version of K-means, where the initial centroids are chosen entirely at random among all the data points.\n",
    "\n",
    "As we saw in class, the K-means algorithm iterates over the following steps:\n",
    "- Given a set of centroids, assign all data points to the cluster represented by its nearest centroid (according to Euclidean distance)\n",
    "- Given a set of assignments of points to clusters, compute the new centroids for every cluster, by taking the mean of all the points assigned to each cluster.\n",
    "\n",
    "Your algorithm should converge if 1) the maximum number of iterations is reached, or 2) if the SSE between two consecutive iterations does not change a lot (as in the gradient descent for linear regression we saw in Assignment 2). In order to check for the latter condition, you may use the following piece of code:\n",
    "```python\n",
    "if np.absolute(all_sse[it] - all_sse[it-1])/all_sse[it-1] <= tol\n",
    "```\n",
    "\n",
    "In order to calculate the SSE (sum of squares of error) first you need to define what an 'error' is. In k-means, error per data point refers to the Euclidean distance of that particular point from its assigned centroid. SSE sums up all those squared Euclidean distances for all data points and comes up with a number that reflects the total error of approximating every data points by its assigned centroid.\n",
    "\n",
    "\n"
   ]
  },
  {
   "cell_type": "code",
   "execution_count": 2,
   "metadata": {},
   "outputs": [
    {
     "name": "stdout",
     "output_type": "stream",
     "text": [
      "([1, 1, 1, 1, 1, 1, 1, 1, 1, 1, 1, 1, 1, 1, 1, 1, 1, 1, 1, 1, 1, 1, 1, 1, 1, 1, 1, 1, 1, 1, 1, 1, 1, 1, 1, 1, 1, 1, 1, 1, 1, 1, 1, 1, 1, 1, 1, 1, 1, 1, 2, 2, 0, 2, 2, 2, 2, 2, 2, 2, 2, 2, 2, 2, 2, 2, 2, 2, 2, 2, 2, 2, 2, 2, 2, 2, 2, 0, 2, 2, 2, 2, 2, 2, 2, 2, 2, 2, 2, 2, 2, 2, 2, 2, 2, 2, 2, 2, 2, 2, 0, 2, 0, 0, 0, 0, 2, 0, 0, 0, 0, 0, 0, 2, 2, 0, 0, 0, 0, 2, 0, 2, 0, 2, 0, 0, 2, 2, 0, 0, 0, 0, 0, 2, 0, 0, 0, 0, 2, 0, 0, 0, 2, 0, 0, 0, 2, 0, 0, 2], [[6.8500000000000005, 3.073684210526315, 5.742105263157893, 2.0710526315789473], [5.005999999999999, 3.4180000000000006, 1.464, 0.2439999999999999], [5.901612903225807, 2.748387096774194, 4.393548387096775, 1.4338709677419357]], [516.0699999999997, 195.3808587145893, 96.7245304475217, 81.56655201210862, 79.28654263977782, 78.940841426146, 78.940841426146], 6)\n"
     ]
    }
   ],
   "source": [
    "#find the closest centroid for each data point\n",
    "def findClosestCentroid(centroids, data):\n",
    "    min_distance = float('inf')\n",
    "    min_cluster_index = 0\n",
    "    \n",
    "    for k in range(len(centroids)):\n",
    "        distance = np.linalg.norm(np.array(data) - np.array(centroids[k]))\n",
    "\n",
    "        if distance < min_distance:\n",
    "            min_cluster_index = k\n",
    "            min_distance = distance\n",
    "    return min_cluster_index, min_distance\n",
    "                    \n",
    "#k-means clustering\n",
    "def kmeans_clustering(all_vals, K, max_iter = 100, tol = pow(10,-3)):\n",
    "    assignments = []\n",
    "    centroids = rand.sample(all_vals, k=K)\n",
    "    iters = 0\n",
    "    all_sse = []\n",
    "\n",
    "    for i in range(max_iter):\n",
    "        assignments = []\n",
    "        centroid_clusters = [None] * K\n",
    "        \n",
    "        for j in range(len(centroid_clusters)):\n",
    "            centroid_clusters[j] = []\n",
    "\n",
    "        # Append the closest cluster to the assignments list\n",
    "        for data in all_vals:\n",
    "            m_cluster_index, m_distance = findClosestCentroid(centroids, data)\n",
    "            assignments.append(m_cluster_index)\n",
    "            centroid_clusters[m_cluster_index].append(data)    \n",
    "        \n",
    "        # Sum squares of errors\n",
    "        calc_errors = []\n",
    "        for m, data_point in enumerate(all_vals):\n",
    "            assigned_centroid = centroids[assignments[m]]\n",
    "            error = np.linalg.norm(np.array(data_point) - np.array(assigned_centroid))\n",
    "            calc_errors.append(error**2)\n",
    "        \n",
    "        sse = sum(calc_errors)\n",
    "        all_sse.append(sse)\n",
    "        \n",
    "        # Determine convergence\n",
    "        if i > 1:\n",
    "            if np.absolute(all_sse[i] - all_sse[i-1])/all_sse[i-1] <= tol:\n",
    "                break\n",
    "        \n",
    "        # Calculate new centroids\n",
    "        for index, val in enumerate(centroid_clusters):\n",
    "            mean_centroid = np.mean(val, axis=0).tolist()\n",
    "            centroids[index] = mean_centroid\n",
    "        \n",
    "        # Count the number of iterations\n",
    "        iters += 1\n",
    "        \n",
    "    return (assignments, centroids, all_sse, iters)\n",
    "\n",
    "all_vals = (data[['sepal_length', 'sepal_width', 'petal_length', 'petal_width']].values).tolist()\n",
    "kmeans_cluster_result = kmeans_clustering(all_vals, 3)\n",
    "print(kmeans_cluster_result)"
   ]
  },
  {
   "cell_type": "markdown",
   "metadata": {},
   "source": [
    "### Question 1b: Visualizing K-means [10%]\n",
    "In this question we wll visualize the result of the K-means algorithm. For ease of visualization, we will focus on a scatterplot of two of the four features of the Iris dataset. In particular: run your K-means code with K=3 and default values for the rest of the inputs. Subsequently, make a single scatterplot that contains all data points of the dataset for features 'sepal_length' and 'petal_length' and color every data point according to its cluster assignment."
   ]
  },
  {
   "cell_type": "code",
   "execution_count": 3,
   "metadata": {},
   "outputs": [
    {
     "data": {
      "image/png": "[encoded data removed]",
      "text/plain": [
       "<Figure size 432x288 with 1 Axes>"
      ]
     },
     "metadata": {
      "needs_background": "light"
     },
     "output_type": "display_data"
    }
   ],
   "source": [
    "#your code here\n",
    "#make a single scatterplot\n",
    "fig,(convergence_plot1) = plt.subplots(1)\n",
    "fig.suptitle(\"visualizing K-means for features 'sepal_length' and 'petal_length'\")\n",
    "\n",
    "\n",
    "assignments, centroids, all_sse, iters = kmeans_clustering(all_vals, 3)\n",
    "colors = ['orange','pink','g']\n",
    "for index in range(3):\n",
    "    x = []\n",
    "    y = []\n",
    "    for i in range(len(assignments)):\n",
    "        if assignments[i] == index:\n",
    "            x.append(data.iloc[i]['sepal_length'])\n",
    "            y.append(data.iloc[i]['petal_length'])\n",
    "    convergence_plot1.scatter(x, y, c=colors[index])\n",
    "            \n",
    "convergence_plot1.set(xlabel= \"sepal_length\", ylabel=\"petal_length\")\n",
    "plt.show()"
   ]
  },
  {
   "cell_type": "markdown",
   "metadata": {},
   "source": [
    "### Question 1c: Testing K-means [40%]\n",
    "Selecting the right number of clusters $K$ is a very challenging problem, especially when we don't have some side-information or domain expertise that can help us narrow down a few reasonable values for that parameter. \n",
    "\n",
    "In the absence of any other information, a very useful exercise is to create the plot of SSE (sum of squares of errors) as a function of $K$. Ideally, for a very small $K$, the error will be high (since we are trying to approximate a whole lot of points with a very small number of centroids) and as $K$ increases, the error decreases. However, after a certain value (or a couple of values) for $K$, we will notice diminishing returns, i.e., the error will be decreasing, but not to a great degree. Typically, the value(s) for $K$ where this behavior is observed (the threshold point after which we observe diminishing returns) is usually a good guess for the number of clusters. \n",
    "\n",
    "In this question, we will have to create the SSE vs. K plot for $K = 1\\cdots10$. Furthermore, because K-means uses randomized initialization, we need to do a number of iterations per value of $K$ in order to get a good estimate of the actual SSE (which may not be caused by randomness in the initialization). For this question, you will have to run the entire K-means algorithm to completion, and repeat it 50 different times per $K$, and collect all SSEs. In the figure, you should report the mean SSE per $K$, surrounded by error-bars which will encode the standard deviation."
   ]
  },
  {
   "cell_type": "code",
   "execution_count": 4,
   "metadata": {},
   "outputs": [
    {
     "name": "stderr",
     "output_type": "stream",
     "text": [
      "/opt/anaconda/lib/python3.8/site-packages/numpy/core/fromnumeric.py:3372: RuntimeWarning: Mean of empty slice.\n",
      "  return _methods._mean(a, axis=axis, dtype=dtype,\n",
      "/opt/anaconda/lib/python3.8/site-packages/numpy/core/_methods.py:170: RuntimeWarning: invalid value encountered in double_scalars\n",
      "  ret = ret.dtype.type(ret / rcount)\n"
     ]
    },
    {
     "data": {
      "text/plain": [
       "Text(0.5, 1.0, 'SSE vs. K')"
      ]
     },
     "execution_count": 4,
     "metadata": {},
     "output_type": "execute_result"
    },
    {
     "data": {
      "image/png": "[encoded data removed]",
      "text/plain": [
       "<Figure size 432x288 with 1 Axes>"
      ]
     },
     "metadata": {
      "needs_background": "light"
     },
     "output_type": "display_data"
    }
   ],
   "source": [
    "kmeans_mean = []\n",
    "kmeans_st_deviation = []\n",
    "\n",
    "#for K = 1 ... 10\n",
    "for i in range(10):\n",
    "    SSEs = []\n",
    "    #repeat it 50 different times per K\n",
    "    for j in range(50):\n",
    "        kmeans_cluster_result = kmeans_clustering(all_vals, i + 1)\n",
    "        kmc_SSE = kmeans_cluster_result[2]\n",
    "        SSEs.append(kmc_SSE[len(kmc_SSE) - 1])\n",
    "        \n",
    "#Calculate mean of the sse\n",
    "#append it to the list of SSEs\n",
    "    means = np.mean(SSEs)\n",
    "    kmeans_mean.append(means)\n",
    "#Calculate the standard deviation of the sse\n",
    "#append it to the list of SSEs\n",
    "    stds = np.std(SSEs)    \n",
    "    kmeans_st_deviation.append(stds)\n",
    "\n",
    "#Generate plot\n",
    "fig,(test_plot1) = plt.subplots(1)\n",
    "test_plot1.errorbar(range(1, 11), kmeans_mean, yerr=kmeans_st_deviation)\n",
    "test_plot1.set_title(\"SSE vs. K\")"
   ]
  }
 ],
 "metadata": {
  "kernelspec": {
   "display_name": "Python 3",
   "language": "python",
   "name": "python3"
  },
  "language_info": {
   "codemirror_mode": {
    "name": "ipython",
    "version": 3
   },
   "file_extension": ".py",
   "mimetype": "text/x-python",
   "name": "python",
   "nbconvert_exporter": "python",
   "pygments_lexer": "ipython3",
   "version": "3.8.5"
  }
 },
 "nbformat": 4,
 "nbformat_minor": 4
}
